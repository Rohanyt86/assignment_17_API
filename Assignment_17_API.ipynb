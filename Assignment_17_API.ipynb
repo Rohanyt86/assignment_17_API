{
 "cells": [
  {
   "cell_type": "markdown",
   "id": "05ec6744",
   "metadata": {},
   "source": [
    "#### Q1. What is an API? Give an example, where an API is used in real life."
   ]
  },
  {
   "cell_type": "code",
   "execution_count": null,
   "id": "1c31386a",
   "metadata": {},
   "outputs": [],
   "source": [
    "An API (Application Programming Interface) is like a bridge that allows different software applications to communicate \n",
    "and share data. A real-life example is a weather app on your phone that uses a weather service's API to fetch and display \n",
    "weather information."
   ]
  },
  {
   "cell_type": "markdown",
   "id": "9f01955b",
   "metadata": {},
   "source": [
    "#### Q2. Give advantages and disadvantages of using API."
   ]
  },
  {
   "cell_type": "code",
   "execution_count": null,
   "id": "5d8b55ff",
   "metadata": {},
   "outputs": [],
   "source": [
    "Certainly, here are some advantages and disadvantages of using APIs:\n",
    "\n",
    "Advantages of Using APIs:\n",
    "1. Reusability: APIs allow developers to reuse existing functionalities and services, saving time and effort in development.\n",
    "\n",
    "2. Interoperability: APIs enable different systems and applications to work together, promoting interoperability and integration.\n",
    "\n",
    "3. Scalability: APIs can handle a high volume of requests, making it easy to scale applications and services as needed.\n",
    "\n",
    "4. Innovation: APIs encourage innovation by allowing third-party developers to create new applications and services that build upon existing ones.\n",
    "\n",
    "5. Cost Efficiency: Using APIs can reduce development costs, as developers can leverage pre-existing services and features.\n",
    "\n",
    "6. Time Efficiency: APIs can speed up development by providing ready-made solutions for specific tasks.\n",
    "\n",
    "Disadvantages of Using APIs:\n",
    "1. Security Risks: Improperly secured APIs can pose security risks if they are exploited by malicious actors.\n",
    "\n",
    "2. Dependency: Relying on external APIs means your application's functionality may be affected if the API service goes down or undergoes changes.\n",
    "\n",
    "3. Versioning Challenges: When an API is updated, existing applications may break if they are not compatible with the new version. Proper versioning is essential to mitigate this issue.\n",
    "\n",
    "4. Limited Control: Developers using third-party APIs have limited control over the underlying service, which may not meet their exact needs.\n",
    "\n",
    "5. Data Privacy Concerns: Using external APIs may involve sharing sensitive data with the API provider, raising privacy concerns.\n",
    "\n",
    "6. Licensing and Costs: Some APIs come with licensing fees or usage costs, which can add to the overall expense of a project.\n",
    "\n"
   ]
  },
  {
   "cell_type": "markdown",
   "id": "bf192d72",
   "metadata": {},
   "source": [
    "#### Q3. What is a Web API? Differentiate between API and Web API."
   ]
  },
  {
   "cell_type": "code",
   "execution_count": null,
   "id": "f58ea80f",
   "metadata": {},
   "outputs": [],
   "source": [
    "API is a general term for rules and protocols that enable software components to interact. A Web API is a specific \n",
    "type of API designed for internet-based communication, often using HTTP or HTTPS, and is commonly \n",
    "used for web services and internet-connected applications."
   ]
  },
  {
   "cell_type": "markdown",
   "id": "0247166d",
   "metadata": {},
   "source": [
    "#### Q4. Explain REST and SOAP Architecture. Mention shortcomings of SOAP."
   ]
  },
  {
   "cell_type": "code",
   "execution_count": null,
   "id": "0639edc6",
   "metadata": {},
   "outputs": [],
   "source": [
    "REST (Representational State Transfer) is an architectural style that uses standard HTTP methods for web services, \n",
    "focusing on simplicity and scalability. It often uses lightweight formats like JSON. SOAP (Simple Object Access Protocol) \n",
    "is a protocol for structured data exchange in web services, offering advanced features but with increased complexity. \n",
    "Shortcomings of SOAP include complexity, larger message size, slower performance, limited browser support, and a need \n",
    "for specialized tooling."
   ]
  },
  {
   "cell_type": "markdown",
   "id": "d6d0924d",
   "metadata": {},
   "source": [
    "#### Q5. Differentiate between REST and SOAP."
   ]
  },
  {
   "cell_type": "code",
   "execution_count": null,
   "id": "2392549b",
   "metadata": {},
   "outputs": [],
   "source": [
    "\n",
    "REST is an architectural style that uses simple HTTP methods and lightweight formats like JSON for web services, offering\n",
    "flexibility and efficiency.\n",
    "\n",
    "SOAP is a protocol with complex XML-based messages and extensive features, suitable for complex enterprise scenarios but\n",
    "with increased complexity and slower performance. The choice depends on the project's specific needs."
   ]
  }
 ],
 "metadata": {
  "kernelspec": {
   "display_name": "Python 3 (ipykernel)",
   "language": "python",
   "name": "python3"
  },
  "language_info": {
   "codemirror_mode": {
    "name": "ipython",
    "version": 3
   },
   "file_extension": ".py",
   "mimetype": "text/x-python",
   "name": "python",
   "nbconvert_exporter": "python",
   "pygments_lexer": "ipython3",
   "version": "3.9.13"
  }
 },
 "nbformat": 4,
 "nbformat_minor": 5
}
